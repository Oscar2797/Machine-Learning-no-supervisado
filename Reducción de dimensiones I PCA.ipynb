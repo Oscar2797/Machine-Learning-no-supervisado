{
 "cells": [
  {
   "cell_type": "code",
   "execution_count": 5,
   "id": "b3b0b477-8a88-406f-8b27-423f6f8b25fa",
   "metadata": {},
   "outputs": [],
   "source": [
    "# Tratamiento de datos\n",
    "\n",
    "import numpy as np\n",
    "import pandas as pd\n",
    "\n",
    "# Gráficos\n",
    "import matplotlib.pyplot as plt\n",
    "\n",
    "# Preprocesado y modelado\n",
    "\n",
    "from sklearn.decomposition import PCA\n",
    "from sklearn.preprocessing import StandardScaler\n",
    "from sklearn.pipeline import make_pipeline\n",
    "from numpy import linalg as LA"
   ]
  },
  {
   "cell_type": "code",
   "execution_count": 11,
   "id": "15c97092-ef0c-471a-9446-f93be21177f1",
   "metadata": {},
   "outputs": [
    {
     "data": {
      "text/html": [
       "<div>\n",
       "<style scoped>\n",
       "    .dataframe tbody tr th:only-of-type {\n",
       "        vertical-align: middle;\n",
       "    }\n",
       "\n",
       "    .dataframe tbody tr th {\n",
       "        vertical-align: top;\n",
       "    }\n",
       "\n",
       "    .dataframe thead th {\n",
       "        text-align: right;\n",
       "    }\n",
       "</style>\n",
       "<table border=\"1\" class=\"dataframe\">\n",
       "  <thead>\n",
       "    <tr style=\"text-align: right;\">\n",
       "      <th></th>\n",
       "      <th>Matemáticas</th>\n",
       "      <th>Ciencias</th>\n",
       "      <th>Español</th>\n",
       "      <th>Historia</th>\n",
       "      <th>EdFísica</th>\n",
       "    </tr>\n",
       "  </thead>\n",
       "  <tbody>\n",
       "    <tr>\n",
       "      <th>Lucia</th>\n",
       "      <td>7.0</td>\n",
       "      <td>6.5</td>\n",
       "      <td>9.2</td>\n",
       "      <td>8.6</td>\n",
       "      <td>8.0</td>\n",
       "    </tr>\n",
       "    <tr>\n",
       "      <th>Pedro</th>\n",
       "      <td>7.5</td>\n",
       "      <td>9.4</td>\n",
       "      <td>7.3</td>\n",
       "      <td>7.0</td>\n",
       "      <td>7.0</td>\n",
       "    </tr>\n",
       "    <tr>\n",
       "      <th>Ines</th>\n",
       "      <td>7.6</td>\n",
       "      <td>9.2</td>\n",
       "      <td>8.0</td>\n",
       "      <td>8.0</td>\n",
       "      <td>7.5</td>\n",
       "    </tr>\n",
       "    <tr>\n",
       "      <th>Luis</th>\n",
       "      <td>5.0</td>\n",
       "      <td>6.5</td>\n",
       "      <td>6.5</td>\n",
       "      <td>7.0</td>\n",
       "      <td>9.0</td>\n",
       "    </tr>\n",
       "    <tr>\n",
       "      <th>Andrés</th>\n",
       "      <td>6.0</td>\n",
       "      <td>6.0</td>\n",
       "      <td>7.8</td>\n",
       "      <td>8.9</td>\n",
       "      <td>7.3</td>\n",
       "    </tr>\n",
       "    <tr>\n",
       "      <th>Ana</th>\n",
       "      <td>7.8</td>\n",
       "      <td>9.6</td>\n",
       "      <td>7.7</td>\n",
       "      <td>8.0</td>\n",
       "      <td>6.5</td>\n",
       "    </tr>\n",
       "    <tr>\n",
       "      <th>Carlos</th>\n",
       "      <td>6.3</td>\n",
       "      <td>6.4</td>\n",
       "      <td>8.2</td>\n",
       "      <td>9.0</td>\n",
       "      <td>7.2</td>\n",
       "    </tr>\n",
       "    <tr>\n",
       "      <th>José</th>\n",
       "      <td>7.9</td>\n",
       "      <td>9.7</td>\n",
       "      <td>7.5</td>\n",
       "      <td>8.0</td>\n",
       "      <td>6.0</td>\n",
       "    </tr>\n",
       "    <tr>\n",
       "      <th>Sonia</th>\n",
       "      <td>6.0</td>\n",
       "      <td>6.0</td>\n",
       "      <td>6.5</td>\n",
       "      <td>5.5</td>\n",
       "      <td>8.7</td>\n",
       "    </tr>\n",
       "    <tr>\n",
       "      <th>María</th>\n",
       "      <td>6.8</td>\n",
       "      <td>7.2</td>\n",
       "      <td>8.7</td>\n",
       "      <td>9.0</td>\n",
       "      <td>7.0</td>\n",
       "    </tr>\n",
       "  </tbody>\n",
       "</table>\n",
       "</div>"
      ],
      "text/plain": [
       "        Matemáticas  Ciencias  Español  Historia  EdFísica\n",
       "Lucia           7.0       6.5      9.2       8.6       8.0\n",
       "Pedro           7.5       9.4      7.3       7.0       7.0\n",
       "Ines            7.6       9.2      8.0       8.0       7.5\n",
       "Luis            5.0       6.5      6.5       7.0       9.0\n",
       "Andrés          6.0       6.0      7.8       8.9       7.3\n",
       "Ana             7.8       9.6      7.7       8.0       6.5\n",
       "Carlos          6.3       6.4      8.2       9.0       7.2\n",
       "José            7.9       9.7      7.5       8.0       6.0\n",
       "Sonia           6.0       6.0      6.5       5.5       8.7\n",
       "María           6.8       7.2      8.7       9.0       7.0"
      ]
     },
     "execution_count": 11,
     "metadata": {},
     "output_type": "execute_result"
    }
   ],
   "source": [
    "df= pd.DataFrame(np.array([[7,6.5,9.2,8.6,8],\n",
    "                          [7.5,9.4,7.3,7,7],\n",
    "                          [7.6,9.2,8,8,7.5],\n",
    "                          [5,6.5,6.5,7,9],\n",
    "                          [6,6,7.8,8.9,7.3],\n",
    "                          [7.8,9.6,7.7,8,6.5],\n",
    "                          [6.3,6.4,8.2,9,7.2],\n",
    "                          [7.9,9.7,7.5,8,6],\n",
    "                          [6,6,6.5,5.5,8.7],\n",
    "                          [6.8,7.2,8.7,9,7]]),\n",
    "                 index= [\"Lucia\",\"Pedro\",\"Ines\", \"Luis\", \"Andrés\", \"Ana\", \"Carlos\", \"José\", \"Sonia\", \"María\"],\n",
    "                 columns=[\"Matemáticas\", \"Ciencias\", \"Español\", \"Historia\", \"EdFísica\"])\n",
    "                          \n",
    "df"
   ]
  },
  {
   "cell_type": "code",
   "execution_count": 15,
   "id": "9441125a-a1a9-43c4-8ea5-13aabe3d09ad",
   "metadata": {},
   "outputs": [
    {
     "data": {
      "text/plain": [
       "10"
      ]
     },
     "execution_count": 15,
     "metadata": {},
     "output_type": "execute_result"
    }
   ],
   "source": [
    "# Determinas numero de renglones de base de datos\n",
    "\n",
    "index= df.index\n",
    "renglones= len(index)\n",
    "renglones"
   ]
  },
  {
   "cell_type": "code",
   "execution_count": 17,
   "id": "3aeae5ff-cbdd-48aa-8fe0-f81f56336062",
   "metadata": {},
   "outputs": [
    {
     "data": {
      "text/plain": [
       "array([[ 0.23263076, -0.7529862 ,  1.78848525,  0.65792263,  0.65858084],\n",
       "       [ 0.78651352,  1.14584856, -0.53899555, -0.84590053, -0.47690337],\n",
       "       [ 0.89729007,  1.01489444,  0.31849737,  0.09398895,  0.09083874],\n",
       "       [-1.98290027, -0.7529862 , -1.51898747, -0.84590053,  1.79406505],\n",
       "       [-0.87513476, -1.0803715 ,  0.07349939,  0.93988948, -0.13625811],\n",
       "       [ 1.11884317,  1.27680268, -0.0489996 ,  0.09398895, -1.04464547],\n",
       "       [-0.5428051 , -0.81846326,  0.56349535,  1.03387842, -0.24980653],\n",
       "       [ 1.22961972,  1.34227974, -0.29399757,  0.09398895, -1.61238758],\n",
       "       [-0.87513476, -1.0803715 , -1.51898747, -2.25573474,  1.45341979],\n",
       "       [ 0.01107766, -0.29464677,  1.1759903 ,  1.03387842, -0.47690337]])"
      ]
     },
     "execution_count": 17,
     "metadata": {},
     "output_type": "execute_result"
    }
   ],
   "source": [
    "# Estandarización variables de bases de datos\n",
    "\n",
    "df2= StandardScaler().fit_transform(df)\n",
    "df2"
   ]
  },
  {
   "cell_type": "code",
   "execution_count": 19,
   "id": "6f943f51-2202-455b-ab98-6ce3c6ffcdb0",
   "metadata": {},
   "outputs": [
    {
     "data": {
      "text/plain": [
       "array([[ 1.        ,  0.85407878,  0.38457424,  0.20719425, -0.78716269],\n",
       "       [ 0.85407878,  1.        , -0.02005218, -0.02153942, -0.68772056],\n",
       "       [ 0.38457424, -0.02005218,  1.        ,  0.82091619, -0.36554342],\n",
       "       [ 0.20719425, -0.02153942,  0.82091619,  1.        , -0.50800132],\n",
       "       [-0.78716269, -0.68772056, -0.36554342, -0.50800132,  1.        ]])"
      ]
     },
     "execution_count": 19,
     "metadata": {},
     "output_type": "execute_result"
    }
   ],
   "source": [
    "# Calcular matriz de correlaciones para la matriz transformada \n",
    "# Aquí te muestra la correlación de matemáticas con las demás materias el siguiente renglón ciencias contra las otras materias y así sucesivamente\n",
    "#df2.T es transpuesta\n",
    "A=(1/renglones)*np.dot(df2.T,df2)\n",
    "A"
   ]
  },
  {
   "cell_type": "code",
   "execution_count": 21,
   "id": "fefa815c-1c2f-4cbe-8194-a4ac0b64f24c",
   "metadata": {},
   "outputs": [
    {
     "name": "stdout",
     "output_type": "stream",
     "text": [
      "Eigenvalores:\n",
      "[2.89324967 1.62865042 0.34659605 0.00889139 0.12261246]\n"
     ]
    }
   ],
   "source": [
    "# Entrenamiento del modelo PCA con el escalado de los datos\n",
    "# PCA ya hace la estandarización por eso se usa df\n",
    "pca_pipe= make_pipeline(StandardScaler(),PCA())\n",
    "pca_pipe.fit(df)\n",
    "\n",
    "# se extrae el modelo entrenado del pipeline\n",
    "modelo_pca= pca_pipe.named_steps[\"pca\"]\n",
    "\n",
    "print(\"Eigenvalores:\")\n",
    "results= LA.eigvals(A)\n",
    "print(results)\n",
    "\n",
    "#Indica que varible tiene mayor peso, en este caso es la primera matemáticas"
   ]
  },
  {
   "cell_type": "code",
   "execution_count": 23,
   "id": "2a1b1911-8c81-48c2-86a4-e57fe563b320",
   "metadata": {},
   "outputs": [
    {
     "name": "stdout",
     "output_type": "stream",
     "text": [
      "Porcentaje explicado de cada componente:\n",
      "[0.57864993 0.32573008 0.06931921 0.02452249 0.00177828]\n"
     ]
    }
   ],
   "source": [
    "# Porcentaje de la varianza explicada por cada nuevo componente\n",
    "# los dos primero componentes si se suman explican más del 90%, por lo tanto se pueden tomar sólo 2\n",
    "\n",
    "print( \"Porcentaje explicado de cada componente:\")\n",
    "print(modelo_pca.explained_variance_ratio_)"
   ]
  },
  {
   "cell_type": "code",
   "execution_count": 25,
   "id": "d1560395-dc4f-4007-ac67-76cff401b18d",
   "metadata": {},
   "outputs": [
    {
     "name": "stdout",
     "output_type": "stream",
     "text": [
      "Eignevectores (por renglón):\n"
     ]
    },
    {
     "data": {
      "text/html": [
       "<div>\n",
       "<style scoped>\n",
       "    .dataframe tbody tr th:only-of-type {\n",
       "        vertical-align: middle;\n",
       "    }\n",
       "\n",
       "    .dataframe tbody tr th {\n",
       "        vertical-align: top;\n",
       "    }\n",
       "\n",
       "    .dataframe thead th {\n",
       "        text-align: right;\n",
       "    }\n",
       "</style>\n",
       "<table border=\"1\" class=\"dataframe\">\n",
       "  <thead>\n",
       "    <tr style=\"text-align: right;\">\n",
       "      <th></th>\n",
       "      <th>Matemáticas</th>\n",
       "      <th>Ciencias</th>\n",
       "      <th>Español</th>\n",
       "      <th>Historia</th>\n",
       "      <th>EdFísica</th>\n",
       "    </tr>\n",
       "  </thead>\n",
       "  <tbody>\n",
       "    <tr>\n",
       "      <th>PC1</th>\n",
       "      <td>-0.526644</td>\n",
       "      <td>-0.424936</td>\n",
       "      <td>-0.359147</td>\n",
       "      <td>-0.352697</td>\n",
       "      <td>0.537302</td>\n",
       "    </tr>\n",
       "    <tr>\n",
       "      <th>PC2</th>\n",
       "      <td>-0.270496</td>\n",
       "      <td>-0.508072</td>\n",
       "      <td>0.562082</td>\n",
       "      <td>0.586490</td>\n",
       "      <td>0.093746</td>\n",
       "    </tr>\n",
       "    <tr>\n",
       "      <th>PC3</th>\n",
       "      <td>0.438201</td>\n",
       "      <td>0.040495</td>\n",
       "      <td>0.562276</td>\n",
       "      <td>-0.394180</td>\n",
       "      <td>0.578626</td>\n",
       "    </tr>\n",
       "    <tr>\n",
       "      <th>PC4</th>\n",
       "      <td>-0.261218</td>\n",
       "      <td>0.673627</td>\n",
       "      <td>-0.070086</td>\n",
       "      <td>0.446645</td>\n",
       "      <td>0.523056</td>\n",
       "    </tr>\n",
       "    <tr>\n",
       "      <th>PC5</th>\n",
       "      <td>-0.623878</td>\n",
       "      <td>0.325390</td>\n",
       "      <td>0.483747</td>\n",
       "      <td>-0.420433</td>\n",
       "      <td>-0.306794</td>\n",
       "    </tr>\n",
       "  </tbody>\n",
       "</table>\n",
       "</div>"
      ],
      "text/plain": [
       "     Matemáticas  Ciencias   Español  Historia  EdFísica\n",
       "PC1    -0.526644 -0.424936 -0.359147 -0.352697  0.537302\n",
       "PC2    -0.270496 -0.508072  0.562082  0.586490  0.093746\n",
       "PC3     0.438201  0.040495  0.562276 -0.394180  0.578626\n",
       "PC4    -0.261218  0.673627 -0.070086  0.446645  0.523056\n",
       "PC5    -0.623878  0.325390  0.483747 -0.420433 -0.306794"
      ]
     },
     "execution_count": 25,
     "metadata": {},
     "output_type": "execute_result"
    }
   ],
   "source": [
    "# Cálculo de los eigenvectores\n",
    "print( \"Eignevectores (por renglón):\")\n",
    "pd.DataFrame(data= modelo_pca.components_,columns= df.columns, index= [\"PC1\", \"PC2\", \"PC3\", \"PC4\", \"PC5\"])"
   ]
  },
  {
   "cell_type": "code",
   "execution_count": 27,
   "id": "ede6fb11-7e36-4054-9ee6-96c2301a9b89",
   "metadata": {},
   "outputs": [
    {
     "data": {
      "text/html": [
       "<div>\n",
       "<style scoped>\n",
       "    .dataframe tbody tr th:only-of-type {\n",
       "        vertical-align: middle;\n",
       "    }\n",
       "\n",
       "    .dataframe tbody tr th {\n",
       "        vertical-align: top;\n",
       "    }\n",
       "\n",
       "    .dataframe thead th {\n",
       "        text-align: right;\n",
       "    }\n",
       "</style>\n",
       "<table border=\"1\" class=\"dataframe\">\n",
       "  <thead>\n",
       "    <tr style=\"text-align: right;\">\n",
       "      <th></th>\n",
       "      <th>PC1</th>\n",
       "      <th>PC2</th>\n",
       "      <th>PC3</th>\n",
       "      <th>PC4</th>\n",
       "      <th>PC5</th>\n",
       "    </tr>\n",
       "  </thead>\n",
       "  <tbody>\n",
       "    <tr>\n",
       "      <th>Lucia</th>\n",
       "      <td>-0.323063</td>\n",
       "      <td>1.772525</td>\n",
       "      <td>1.198801</td>\n",
       "      <td>-0.055015</td>\n",
       "      <td>-0.003633</td>\n",
       "    </tr>\n",
       "    <tr>\n",
       "      <th>Pedro</th>\n",
       "      <td>-0.665441</td>\n",
       "      <td>-1.638702</td>\n",
       "      <td>0.145476</td>\n",
       "      <td>-0.023065</td>\n",
       "      <td>0.123377</td>\n",
       "    </tr>\n",
       "    <tr>\n",
       "      <th>Ines</th>\n",
       "      <td>-1.002547</td>\n",
       "      <td>-0.515692</td>\n",
       "      <td>0.628888</td>\n",
       "      <td>0.516444</td>\n",
       "      <td>-0.142876</td>\n",
       "    </tr>\n",
       "    <tr>\n",
       "      <th>Luis</th>\n",
       "      <td>3.172095</td>\n",
       "      <td>-0.262782</td>\n",
       "      <td>-0.381960</td>\n",
       "      <td>0.677777</td>\n",
       "      <td>0.062504</td>\n",
       "    </tr>\n",
       "    <tr>\n",
       "      <th>Andrés</th>\n",
       "      <td>0.488868</td>\n",
       "      <td>1.365402</td>\n",
       "      <td>-0.835236</td>\n",
       "      <td>-0.155792</td>\n",
       "      <td>-0.123367</td>\n",
       "    </tr>\n",
       "    <tr>\n",
       "      <th>Ana</th>\n",
       "      <td>-1.708633</td>\n",
       "      <td>-1.021700</td>\n",
       "      <td>-0.127077</td>\n",
       "      <td>0.066833</td>\n",
       "      <td>-0.025292</td>\n",
       "    </tr>\n",
       "    <tr>\n",
       "      <th>Carlos</th>\n",
       "      <td>-0.067586</td>\n",
       "      <td>1.462336</td>\n",
       "      <td>-0.506240</td>\n",
       "      <td>-0.117928</td>\n",
       "      <td>-0.013124</td>\n",
       "    </tr>\n",
       "    <tr>\n",
       "      <th>José</th>\n",
       "      <td>-2.011855</td>\n",
       "      <td>-1.275865</td>\n",
       "      <td>-0.542150</td>\n",
       "      <td>-0.197787</td>\n",
       "      <td>-0.017434</td>\n",
       "    </tr>\n",
       "    <tr>\n",
       "      <th>Sonia</th>\n",
       "      <td>3.042030</td>\n",
       "      <td>-1.254881</td>\n",
       "      <td>0.448829</td>\n",
       "      <td>-0.639999</td>\n",
       "      <td>-0.037885</td>\n",
       "    </tr>\n",
       "    <tr>\n",
       "      <th>María</th>\n",
       "      <td>-0.923869</td>\n",
       "      <td>1.369359</td>\n",
       "      <td>-0.029330</td>\n",
       "      <td>-0.071467</td>\n",
       "      <td>0.177730</td>\n",
       "    </tr>\n",
       "  </tbody>\n",
       "</table>\n",
       "</div>"
      ],
      "text/plain": [
       "             PC1       PC2       PC3       PC4       PC5\n",
       "Lucia  -0.323063  1.772525  1.198801 -0.055015 -0.003633\n",
       "Pedro  -0.665441 -1.638702  0.145476 -0.023065  0.123377\n",
       "Ines   -1.002547 -0.515692  0.628888  0.516444 -0.142876\n",
       "Luis    3.172095 -0.262782 -0.381960  0.677777  0.062504\n",
       "Andrés  0.488868  1.365402 -0.835236 -0.155792 -0.123367\n",
       "Ana    -1.708633 -1.021700 -0.127077  0.066833 -0.025292\n",
       "Carlos -0.067586  1.462336 -0.506240 -0.117928 -0.013124\n",
       "José   -2.011855 -1.275865 -0.542150 -0.197787 -0.017434\n",
       "Sonia   3.042030 -1.254881  0.448829 -0.639999 -0.037885\n",
       "María  -0.923869  1.369359 -0.029330 -0.071467  0.177730"
      ]
     },
     "execution_count": 27,
     "metadata": {},
     "output_type": "execute_result"
    }
   ],
   "source": [
    "# Proyecciones de los componentes\n",
    "proyecciones= np.dot(modelo_pca.components_,df2.T)\n",
    "proyecciones= pd.DataFrame(proyecciones, index=[\"PC1\", \"PC2\", \"PC3\", \"PC4\", \"PC5\"])\n",
    "proyecciones= proyecciones.transpose().set_index(df.index)\n",
    "proyecciones"
   ]
  },
  {
   "cell_type": "code",
   "execution_count": 29,
   "id": "1f020786-c65f-4ad5-9dc2-a05361035c10",
   "metadata": {},
   "outputs": [
    {
     "data": {
      "image/png": "[encoded data removed]",
      "text/plain": [
       "<Figure size 640x480 with 1 Axes>"
      ]
     },
     "metadata": {},
     "output_type": "display_data"
    }
   ],
   "source": [
    "# Se toma sólo la columna PC1 y PC2, ya que entre estas explican más del 90%\n",
    "X= proyecciones.iloc[:,0]\n",
    "y= proyecciones.iloc[:,1]\n",
    "z= df.index\n",
    "X= X.to_numpy()\n",
    "y= y.to_numpy()\n",
    "\n",
    "fig, ax= plt.subplots()\n",
    "ax.set_title(\"Mapa de observaciones\")\n",
    "ax.scatter(X,y)\n",
    "\n",
    "# Para i que va ir del 1 al 10, ya que z tiene 10 datos, se va a agarrar el texto del número en el que va z y se va a anotar el texto en X[i], y[i] dentro del gráfico\n",
    "for i, txt in enumerate(z):\n",
    "    ax.annotate(txt,(X[i],y[i]))\n",
    "\n",
    "# Se pueden observar 3 grupos (clusters)"
   ]
  },
  {
   "cell_type": "code",
   "execution_count": 31,
   "id": "e8307984-8f06-4c66-b9c3-bbb1b9f89f10",
   "metadata": {},
   "outputs": [
    {
     "data": {
      "text/html": [
       "<div>\n",
       "<style scoped>\n",
       "    .dataframe tbody tr th:only-of-type {\n",
       "        vertical-align: middle;\n",
       "    }\n",
       "\n",
       "    .dataframe tbody tr th {\n",
       "        vertical-align: top;\n",
       "    }\n",
       "\n",
       "    .dataframe thead th {\n",
       "        text-align: right;\n",
       "    }\n",
       "</style>\n",
       "<table border=\"1\" class=\"dataframe\">\n",
       "  <thead>\n",
       "    <tr style=\"text-align: right;\">\n",
       "      <th></th>\n",
       "      <th>PC1</th>\n",
       "      <th>PC2</th>\n",
       "    </tr>\n",
       "  </thead>\n",
       "  <tbody>\n",
       "    <tr>\n",
       "      <th>Matemáticas</th>\n",
       "      <td>-0.526644</td>\n",
       "      <td>-0.270496</td>\n",
       "    </tr>\n",
       "    <tr>\n",
       "      <th>Ciencias</th>\n",
       "      <td>-0.424936</td>\n",
       "      <td>-0.508072</td>\n",
       "    </tr>\n",
       "    <tr>\n",
       "      <th>Español</th>\n",
       "      <td>-0.359147</td>\n",
       "      <td>0.562082</td>\n",
       "    </tr>\n",
       "    <tr>\n",
       "      <th>Historia</th>\n",
       "      <td>-0.352697</td>\n",
       "      <td>0.586490</td>\n",
       "    </tr>\n",
       "    <tr>\n",
       "      <th>EdFísica</th>\n",
       "      <td>0.537302</td>\n",
       "      <td>0.093746</td>\n",
       "    </tr>\n",
       "  </tbody>\n",
       "</table>\n",
       "</div>"
      ],
      "text/plain": [
       "                  PC1       PC2\n",
       "Matemáticas -0.526644 -0.270496\n",
       "Ciencias    -0.424936 -0.508072\n",
       "Español     -0.359147  0.562082\n",
       "Historia    -0.352697  0.586490\n",
       "EdFísica     0.537302  0.093746"
      ]
     },
     "execution_count": 31,
     "metadata": {},
     "output_type": "execute_result"
    }
   ],
   "source": [
    "# Buscar que es lo que agrupa a las variables\n",
    "\n",
    "componentes_2= pd.DataFrame(data= modelo_pca.components_,\n",
    "                            columns= df.columns,\n",
    "                            index=[\"PC1\", \"PC2\", \"PC3\", \"PC4\", \"PC5\"])\n",
    "componentes_2= componentes_2.iloc[0:2,:] #Sólo se toma 0 y 1 por que son los renglones de PC1 y PC2\n",
    "componentes_2= componentes_2.T\n",
    "componentes_2"
   ]
  },
  {
   "cell_type": "code",
   "execution_count": 53,
   "id": "e5898af2-6948-4201-b4cf-5c49f0f88a05",
   "metadata": {},
   "outputs": [
    {
     "data": {
      "image/png": "[encoded data removed]",
      "text/plain": [
       "<Figure size 640x480 with 1 Axes>"
      ]
     },
     "metadata": {},
     "output_type": "display_data"
    }
   ],
   "source": [
    "X= componentes_2.iloc[:,0]\n",
    "y= componentes_2.iloc[:,1]\n",
    "z= componentes_2.index\n",
    "X= X.to_numpy()\n",
    "y= y.to_numpy()\n",
    "\n",
    "fig, ax= plt.subplots()\n",
    "ax.set_title(\"Mapa de factores\")\n",
    "ax.scatter(X,y)\n",
    "\n",
    "# Para i que va ir del 1 al 10, ya que z tiene 10 datos, se va a agarrar el texto del número en el que va z y se va a anotar el texto en X[i], y[i] dentro del gráfico\n",
    "for i, txt in enumerate(z):\n",
    "    ax.annotate(txt,(X[i],y[i]))\n",
    "\n",
    "# Esto se hace para encontrar correlaciones entre las variables\n",
    "# Lucia,María, Carlos y Andrés tienen una alta correlación en Historia y español y tienen las mayores calificaciones\n",
    "# Luis y Sonia en Edfísica y tienen las mayores calificaciones\n",
    "# José, Ana, Ines y Pedro en Mate y cienciasy tienen las mayores calificaciones"
   ]
  },
  {
   "cell_type": "code",
   "execution_count": 55,
   "id": "c6742c23-8c32-49ef-90c1-e492591cc0da",
   "metadata": {},
   "outputs": [
    {
     "name": "stdout",
     "output_type": "stream",
     "text": [
      "[[ 0.23263076 -0.7529862   1.78848525  0.65792263  0.65858084]\n",
      " [ 0.78651352  1.14584856 -0.53899555 -0.84590053 -0.47690337]\n",
      " [ 0.89729007  1.01489444  0.31849737  0.09398895  0.09083874]\n",
      " [-1.98290027 -0.7529862  -1.51898747 -0.84590053  1.79406505]\n",
      " [-0.87513476 -1.0803715   0.07349939  0.93988948 -0.13625811]\n",
      " [ 1.11884317  1.27680268 -0.0489996   0.09398895 -1.04464547]\n",
      " [-0.5428051  -0.81846326  0.56349535  1.03387842 -0.24980653]\n",
      " [ 1.22961972  1.34227974 -0.29399757  0.09398895 -1.61238758]\n",
      " [-0.87513476 -1.0803715  -1.51898747 -2.25573474  1.45341979]\n",
      " [ 0.01107766 -0.29464677  1.1759903   1.03387842 -0.47690337]]\n"
     ]
    }
   ],
   "source": [
    "# Procedimiento para obtener la matriz estandarizada original\n",
    "# np.dot es para multiplicar 2 matrices\n",
    "\n",
    "original= np.dot(modelo_pca.components_.T, proyecciones.T) # Se multiplican estas matrices\n",
    "original= original.T\n",
    "print( original)"
   ]
  },
  {
   "cell_type": "code",
   "execution_count": null,
   "id": "8b6f1f6f-127b-40b9-9d97-4c0b1cef787f",
   "metadata": {},
   "outputs": [],
   "source": []
  }
 ],
 "metadata": {
  "kernelspec": {
   "display_name": "Python [conda env:Orange]",
   "language": "python",
   "name": "conda-env-Orange-py"
  },
  "language_info": {
   "codemirror_mode": {
    "name": "ipython",
    "version": 3
   },
   "file_extension": ".py",
   "mimetype": "text/x-python",
   "name": "python",
   "nbconvert_exporter": "python",
   "pygments_lexer": "ipython3",
   "version": "3.11.8"
  }
 },
 "nbformat": 4,
 "nbformat_minor": 5
}
